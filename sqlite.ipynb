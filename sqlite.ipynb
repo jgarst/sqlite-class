{
 "cells": [
  {
   "cell_type": "markdown",
   "metadata": {
    "slideshow": {
     "slide_type": "slide"
    }
   },
   "source": [
    "<h1 style=\"text-align: center;\">What is a database and why do we need it?</h1>\n",
    "\n",
    "<h4 style=\"text-align: center;\">If you do not have Python installed, you can follow along by using repl.it</h4>\n",
    "<h4 style=\"text-align: center;\"><a href=\"https://repl.it/languages/python3\">https://repl.it/languages/python3</a></h4>\n",
    "\n",
    "<h4 style=\"text-align: center;\">We will be using an sqlite database hosted through Datasette</h4>\n",
    "<h4 style=\"text-align: center;\"><a href=\"https://san-francisco.datasettes.com\">https://san-francisco.datasettes.com</a></h4>"
   ]
  },
  {
   "cell_type": "markdown",
   "metadata": {
    "slideshow": {
     "slide_type": "slide"
    }
   },
   "source": [
    "# Last time:\n",
    "* four core collections, list, tuple, set, dictionary\n",
    "* Strings are immutable and ordered (like tuples)\n",
    "* We can access ordered collections with indecies `collection[i]` \n",
    "* or slices `collection[i:j]`"
   ]
  },
  {
   "cell_type": "markdown",
   "metadata": {
    "slideshow": {
     "slide_type": "slide"
    }
   },
   "source": [
    "# Let's make contact with the outside world"
   ]
  },
  {
   "cell_type": "markdown",
   "metadata": {
    "slideshow": {
     "slide_type": "-"
    }
   },
   "source": [
    "# Reading and Writing files"
   ]
  },
  {
   "cell_type": "code",
   "execution_count": null,
   "metadata": {},
   "outputs": [],
   "source": [
    "my_file = open(\"coconuts.txt\", \"w\")\n",
    "my_file.write(\"I've got a lovely bunch of coconuts\\n\")\n",
    "my_file.write(\"There they are, all standing in a row\\n\")\n",
    "my_file.write(\"Big ones, small ones, some as big as your head\\n\")\n",
    "my_file.write(\"Give them a twist a flick of the wrist\\n\")\n",
    "my_file.write(\"That's what the showman said\\n\")\n",
    "my_file.close()"
   ]
  },
  {
   "cell_type": "code",
   "execution_count": null,
   "metadata": {
    "slideshow": {
     "slide_type": "slide"
    }
   },
   "outputs": [],
   "source": [
    "my_file = open(\"coconuts.txt\", \"r\")\n",
    "for line in my_file:\n",
    "    print(line)\n",
    "    \n",
    "my_file.close()"
   ]
  },
  {
   "cell_type": "markdown",
   "metadata": {
    "slideshow": {
     "slide_type": "slide"
    }
   },
   "source": [
    "# What happens when something goes wrong?\n",
    "* We forget close the file\n",
    "* Or an error occurs between open and close\n",
    "* Or I pull the plug between open and closed"
   ]
  },
  {
   "cell_type": "markdown",
   "metadata": {
    "slideshow": {
     "slide_type": "slide"
    }
   },
   "source": [
    "# Context Managers, a terrible name for a great idea"
   ]
  },
  {
   "cell_type": "code",
   "execution_count": 3,
   "metadata": {},
   "outputs": [
    {
     "name": "stdout",
     "output_type": "stream",
     "text": [
      "True\n"
     ]
    }
   ],
   "source": [
    "with open(\"coconuts.txt\", \"w\") as my_file:\n",
    "    pass\n",
    "    # write write write\n",
    "    \n",
    "print(my_file.closed)  # True, even if something goes wrong"
   ]
  },
  {
   "cell_type": "markdown",
   "metadata": {
    "slideshow": {
     "slide_type": "slide"
    }
   },
   "source": [
    "# Bank errors"
   ]
  },
  {
   "cell_type": "code",
   "execution_count": null,
   "metadata": {},
   "outputs": [],
   "source": [
    "# This code is a disaster\n",
    "# If someone trips over the power cable\n",
    "account1 = 50\n",
    "account2 = 200\n",
    "\n",
    "# transfer money between acounts\n",
    "account1 += 50\n",
    "account2 -= 50"
   ]
  },
  {
   "cell_type": "code",
   "execution_count": null,
   "metadata": {
    "slideshow": {
     "slide_type": "slide"
    }
   },
   "outputs": [],
   "source": [
    "import sqlite3\n",
    "\n",
    "# Open the connection\n",
    "with sqlite3.connect(\"coconuts.db\") as conn:\n",
    "    conn.execute(\"CREATE TABLE IF NOT EXISTS bunch (description text, quantity int)\")\n",
    "\n",
    "    # Open the transaction\n",
    "    with conn as curs:\n",
    "        curs.execute(\"INSERT INTO bunch VALUES ('big', 2)\")\n"
   ]
  },
  {
   "cell_type": "code",
   "execution_count": null,
   "metadata": {
    "slideshow": {
     "slide_type": "slide"
    }
   },
   "outputs": [],
   "source": [
    "with sqlite3.connect('sf-trees.db', timeout=1) as conn:\n",
    "    with conn as transaction:\n",
    "        transaction.execute('''\n",
    "            UPDATE banks\n",
    "            SET cash = cash + 50\n",
    "            WHERE name == \"bank 1\"\n",
    "        ''')\n",
    "        \n",
    "        1 / 0  # we are fine\n",
    "        \n",
    "        transaction.execute('''\n",
    "            UPDATE banks\n",
    "            SET cash = cash + 50\n",
    "            WHERE name == \"bank 2\"\n",
    "        ''')\n"
   ]
  },
  {
   "cell_type": "markdown",
   "metadata": {
    "slideshow": {
     "slide_type": "slide"
    }
   },
   "source": [
    "- ### Databases store data through the <span style=\"color: red;\">relational model</span>.\n",
    "- ### Databases help us think in terms of data and not address through a <span style=\"color: red;\">declarative</span> syntax.\n",
    "- ### Databases provide consistency through <span style=\"color: red;\">atomic transactions</span>.\n",
    "- ### Databases allow multiple access patterns with <span style=\"color: red;\">indices</span>."
   ]
  },
  {
   "cell_type": "markdown",
   "metadata": {
    "slideshow": {
     "slide_type": "slide"
    }
   },
   "source": [
    "### Let's look at how a database is structued \n",
    "### https://san-francisco.datasettes.com/sf-trees-ebc2ad9\n",
    "\n",
    "#### What is stored in each of these tables?\n",
    "#### Which tables store most of the information?\n",
    "#### Why do many of these tables have only two columns?"
   ]
  },
  {
   "cell_type": "markdown",
   "metadata": {
    "slideshow": {
     "slide_type": "slide"
    }
   },
   "source": [
    "# Railroad diagram documentation https://www.sqlite.org/syntaxdiagrams.html#select-stmt\n",
    "\n",
    "### 1. Together: Select Trees  \n",
    "### 2. Select 5 Trees  \n",
    "### 3) Select 5 Trees with lowest Latitude\n",
    "### 4) Select 5 Trees with lowest non null latitude\n",
    "### 5) In two queries, Select all trees in police care"
   ]
  },
  {
   "cell_type": "markdown",
   "metadata": {
    "slideshow": {
     "slide_type": "slide"
    }
   },
   "source": [
    "### 6) In one query with a join, Select all trees in police care *\n",
    "### 7) Using the aggregation `SELECT Count(TreeID) ...`, count the number of trees in police care\n",
    "### 8) Using Group By, get a sorted list of which institutions care for the most trees\n",
    "\n",
    "### Bonus: How many significant trees are there in the city?  Who takes care of them?"
   ]
  },
  {
   "cell_type": "markdown",
   "metadata": {
    "slideshow": {
     "slide_type": "slide"
    }
   },
   "source": [
    "<h1 style=\"text-align: center;\">Advanced data modeling</h1>\n",
    "\n",
    "<h3>- Python collections are great for special purpose data models.</h3>\n",
    "<h3>- They are not as good for storing facts about the world</h3>"
   ]
  },
  {
   "cell_type": "code",
   "execution_count": null,
   "metadata": {
    "slideshow": {
     "slide_type": "slide"
    }
   },
   "outputs": [],
   "source": [
    "phone_book = {\"jared\": ('(555) 555-5555', {'city': 'San Fransisco', 'address': 'my address'})}"
   ]
  },
  {
   "cell_type": "markdown",
   "metadata": {},
   "source": [
    "<h3>This lets us quickly look up address by name!</h3>\n",
    "<h3>It is hard to look up every person near an address, or every person who has ever lived at an address</h3>\n",
    "<h3>Python makes it easy to create models through nesting collections, but this heirarchical format requires you to decide how on consistency and access up front</h3>"
   ]
  },
  {
   "cell_type": "markdown",
   "metadata": {
    "slideshow": {
     "slide_type": "slide"
    }
   },
   "source": [
    "<h1 style=\"text-align: center;\">Relational Modeling</h1>"
   ]
  },
  {
   "cell_type": "markdown",
   "metadata": {
    "slideshow": {
     "slide_type": "slide"
    }
   },
   "source": [
    "### This is the obvious way of doing things, and before relational databases hierarchical and network databases used similar models.\n",
    "\n",
    "- ### Jared\n",
    "    - ### Phone Number\n",
    "    - ### Address\n",
    "        - ### State\n",
    "        - ### City\n",
    "        - ### Street\n",
    "---\n",
    "\n",
    "### Hard to find all people on one street.\n",
    "### Hard to have multiple people with the same phone number.\n",
    "### Hard to remember paths -- getting to street through `name -> address -> street` relation"
   ]
  },
  {
   "cell_type": "markdown",
   "metadata": {
    "slideshow": {
     "slide_type": "slide"
    }
   },
   "source": [
    "# Relational models use non-heirarchical tables.\n",
    "\n",
    "<table style=\"border-collapse: separate; border-spacing: 30px;\">\n",
    "<tr><td>\n",
    "    \n",
    "|  <span style=\"font-size: 30px;\">Name</span>  |  <span style=\"font-size: 30px;\">City</span>  | <span style=\"font-size: 30px;\">Street</span> |\n",
    "| ------ | ------- | ---- |\n",
    "| <span style=\"font-size: 30px;\">Jean</span>   | <span style=\"font-size: 30px;\">City 1</span> | <span style=\"font-size: 30px;\">Street 1</span> |\n",
    "| <span style=\"font-size: 30px;\">Jordan</span> | <span style=\"font-size: 30px;\">City 2</span> | <span style=\"font-size: 30px;\">Street 2</span> |\n",
    "| <span style=\"font-size: 30px;\">Jordan</span> | <span style=\"font-size: 30px;\">City 2</span> | <span style=\"font-size: 30px;\">Street 3</span> |\n",
    "\n",
    "</td><td>\n",
    "\n",
    "|  <span style=\"font-size: 30px;\">Name</span>  | <span style=\"font-size: 30px;\">Phone Number</span> |\n",
    "| ------- | -------- |\n",
    "| <span style=\"font-size: 30px;\">Jean</span> |   <span style=\"font-size: 30px;\">Phone Number 1</span>  |\n",
    "| <span style=\"font-size: 30px;\">Jordan</span> |   <span style=\"font-size: 30px;\">Phone Number 1</span>  |\n",
    "| <span style=\"font-size: 30px;\">Tom</span> |   <span style=\"font-size: 30px;\">Phone Number 2</span>  |\n",
    "\n",
    "</td><td>\n",
    "\n",
    "|  <span style=\"font-size: 30px;\">Tree</span>  | <span style=\"font-size: 30px;\">Street</span> |\n",
    "| ------ | -------- |\n",
    "| <span style=\"font-size: 30px;\">Tree 1</span> |   <span style=\"font-size: 30px;\">Street 1</span>  |\n",
    "| <span style=\"font-size: 30px;\">Tree 2</span> |   <span style=\"font-size: 30px;\">Street 2</span>  |\n",
    "| <span style=\"font-size: 30px;\">Tree 3</span> |   <span style=\"font-size: 30px;\">Null</span>   |\n",
    "\n",
    "</td>\n",
    "</tr></table>\n",
    "\n",
    "We can use this to\n",
    "1. Find all Jordan's addresses\n",
    "2. Find everyone who shares a phone number\n",
    "3. Find all the people who live near trees\n",
    "\n",
    "(how?)"
   ]
  },
  {
   "cell_type": "markdown",
   "metadata": {
    "slideshow": {
     "slide_type": "slide"
    }
   },
   "source": [
    "### Relational databases make it\n",
    "* ### Easier to decide who owns what information\n",
    "* ### Easier to keep data from duplicating\n",
    "* ### Easier to keep data consistent"
   ]
  },
  {
   "cell_type": "markdown",
   "metadata": {
    "slideshow": {
     "slide_type": "slide"
    }
   },
   "source": [
    "### Notes on SQL\n",
    "* ### The Sqlite documentation is probably my favorite documentation\n",
    "    * ### https://sqlite.org/lang.html\n",
    "* ### There are good resources on using SQL\n",
    "* ### SQL makes it easy to write bugs"
   ]
  },
  {
   "cell_type": "markdown",
   "metadata": {
    "slideshow": {
     "slide_type": "slide"
    }
   },
   "source": [
    "<h1 style=\"text-align: center;\">SQLite</h1>"
   ]
  },
  {
   "cell_type": "markdown",
   "metadata": {
    "slideshow": {
     "slide_type": "slide"
    }
   },
   "source": [
    "<h3 style=\"text-align: center;\">Why use SQLite?</h3> \n",
    "\n",
    "- \"Tiny, self contained, serverless, zero-configuration, transactional SQL database\"\n",
    "- \"The intent of the developers is to support SQLite through the year 2050\"\n",
    "- \"Think of SQLite not as a replacement for Oracle but as a replacement for fopen\"\n",
    "- Has my favorite documentation of any software project -- https://www.sqlite.org\n"
   ]
  },
  {
   "cell_type": "markdown",
   "metadata": {
    "slideshow": {
     "slide_type": "slide"
    }
   },
   "source": [
    "<h3 style=\"text-align: center;\">Create a Table</h3>\n",
    "\n",
    "- go to https://archive.ics.uci.edu/ml/datasets/forest+fires and look at the csv dataset\n",
    "- use the sqlite documentation to create a table that can store this information. https://www.sqlite.org/datatype3.html\n",
    "- Create table with\n",
    "```SQL\n",
    "CREATE TABLE name (\n",
    "    col1 type,\n",
    "    col2 type\n",
    "    ...\n",
    ")\n",
    "```\n",
    "- insert the first row of the table with\n",
    "\n",
    "```SQL\n",
    "INSERT INTO tablename VALUES (col1, col2, ...);\n",
    "```\n",
    "\n",
    "- check that the data is in the table with\n",
    "\n",
    "```python\n",
    "cur.execute('SELECT * FROM tablename;').fetchall()\n",
    "```\n",
    "\n",
    "- We will iterate and insert the rest of the data later."
   ]
  },
  {
   "cell_type": "markdown",
   "metadata": {
    "slideshow": {
     "slide_type": "slide"
    }
   },
   "source": [
    "<h3 style=\"text-align: center;\">Always keep Data and Logic seperate</h3>"
   ]
  },
  {
   "cell_type": "code",
   "execution_count": null,
   "metadata": {},
   "outputs": [],
   "source": [
    "import sqlite3\n",
    "# Little bobby tables\n",
    "name = \"); DROP TABLE student;\"\n",
    "with sqlite3.connect('test.db', timeout=1) as conn:\n",
    "    with conn as cur:\n",
    "        #cur.execute('INSERT INTO student VALUES (?,);', (name,))\n",
    "        cur.execute(f'INSERT INTO student VALUES ({name},);')\n",
    "        "
   ]
  },
  {
   "cell_type": "markdown",
   "metadata": {
    "slideshow": {
     "slide_type": "slide"
    }
   },
   "source": [
    "<h1 style=\"text-align: center;\">Download and insert the rest of the fires data into your database</h1>"
   ]
  },
  {
   "cell_type": "markdown",
   "metadata": {
    "slideshow": {
     "slide_type": "slide"
    }
   },
   "source": [
    "<h1 style=\"text-align: center;\">SQL uses indices to access the data.</h1>\n",
    "\n",
    "- ### Indices take up space, and computational power on insertion.\n",
    "- ### They allow you to decouple the question of 'how am I storing my data', and 'how am I accessing my data'.\n",
    "- ### They can be used to enforce consistency accross rows."
   ]
  },
  {
   "cell_type": "markdown",
   "metadata": {
    "slideshow": {
     "slide_type": "slide"
    }
   },
   "source": [
    "<h3 style=\"text-align: center;\">SQL is declarative. You tell it what you want, it figures out how to get there</h3>\n",
    "\n",
    "- ### The set of actions it takes can vary wildly, depending on if you are operating on 100, 10,000 or 1,000,000 rows\n",
    "- ### Ask it what it is doing by using Explain"
   ]
  },
  {
   "cell_type": "markdown",
   "metadata": {
    "slideshow": {
     "slide_type": "slide"
    }
   },
   "source": [
    "<h1 style=\"text-align: center;\">Key Takeaways</h1>\n",
    "\n",
    "- ### Databases are the only realistic way to keep your data uncorrupted\n",
    "- ### Databases allow sophisticated control over \n",
    "    - ### How the data is stored\n",
    "    - ### How to data is verified\n",
    "    - ### How the data is accessed\n",
    "- ### Databases decouple those questions. Changing the answer to one does not change the answer to the others."
   ]
  },
  {
   "cell_type": "markdown",
   "metadata": {
    "slideshow": {
     "slide_type": "slide"
    }
   },
   "source": [
    "Relational databases store facts about the world\n",
    "\n",
    "Databases are necessary to maintain transactional consistency\n",
    "\n",
    "Databases Can be used to select and filter information across many related facts\n",
    "\n",
    "Databases can aggregate information across values that it stored\n",
    "\n",
    "'"
   ]
  }
 ],
 "metadata": {
  "celltoolbar": "Slideshow",
  "kernelspec": {
   "display_name": "Python 3",
   "language": "python",
   "name": "python3"
  },
  "language_info": {
   "codemirror_mode": {
    "name": "ipython",
    "version": 3
   },
   "file_extension": ".py",
   "mimetype": "text/x-python",
   "name": "python",
   "nbconvert_exporter": "python",
   "pygments_lexer": "ipython3",
   "version": "3.7.4"
  }
 },
 "nbformat": 4,
 "nbformat_minor": 1
}
